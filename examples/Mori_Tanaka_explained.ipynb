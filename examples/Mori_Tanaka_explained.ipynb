{
 "cells": [
  {
   "cell_type": "markdown",
   "metadata": {},
   "source": [
    "# Mori Tanaka explained"
   ]
  },
  {
   "cell_type": "markdown",
   "metadata": {},
   "source": [
    "The following notebook is intended to explain the various Mori-Tanaka implementations and solution strategies used in HomoPy. The goal is not to derive the equations, but to provide a learning by doing example. A prerequisite is a basic understanding of homogenization methods in the field of elasticity.\n",
    "\n",
    "The starting point is the formulation after Benveniste (1987), which can also be found in Brylka (2017)\n",
    "\n",
    "$$\n",
    "    \\bar{\\mathbb{C}}^{\\text{MT}} = \\mathbb{C}_m + c_f \\left<(\\mathbb{C}_{f,\\alpha} - \\mathbb{C}_m)\\mathbb{A}^{\\text{SIP}}_{f,\\alpha}\\right>_f (c_m\\mathbb{I}^\\text{S}+c_f\\left<\\mathbb{A}^\\text{SIP}_{f,\\alpha}\\right>_f)^{-1},\n",
    "$$\n",
    "\n",
    "where $\\bar{\\mathbb{C}}^{\\text{MT}}$ is the effective stiffness, $\\mathbb{C}_m$ is the matrix stiffness, $\\mathbb{C}_{f,\\alpha}$ is the stiffness of the inclusion of type $\\alpha$, $c_m$ and $c_f$ are the volume fractions of matrix and fiber, respectively, $\\mathbb{A}^{\\text{SIP}}_{f,\\alpha}$ is the Eshelby tensor for the inclusion shape of type $\\alpha$ and $\\mathbb{I}^\\text{S}$ is the symmetric identity of order four. The brackets $\\left< \\cdot \\right>_f$ indicate the fiber volume average.\n",
    "\n",
    "The problem with this formulation is that depending on the different shapes of inclusions and elastic symmetries (isotropy, transverse isotropy, ...) of the constituents, the effective stiffness is not guaranteed to be major symmetric, which violates thermodynamic principles.\n",
    "\n",
    "To demonstrate this, we start with a simple example:"
   ]
  },
  {
   "cell_type": "markdown",
   "metadata": {},
   "source": [
    "First, we assume a single inclusion type, namely carbon fibers aligned with the x-axis in a polyamide-6 matrix. For simplicity, the carbon fiber is assumed to be isotropic, while in reality it should be transverse isotropic."
   ]
  },
  {
   "cell_type": "code",
   "execution_count": 8,
   "metadata": {},
   "outputs": [
    {
     "name": "stdout",
     "output_type": "stream",
     "text": [
      "[[6.09885571e+10 1.14638372e+09 1.14638372e+09 0.00000000e+00 0.00000000e+00 0.00000000e+00]\n",
      " [1.14638372e+09 2.74827632e+09 1.40479307e+09 0.00000000e+00 0.00000000e+00 0.00000000e+00]\n",
      " [1.14638372e+09 1.40479307e+09 2.74827632e+09 0.00000000e+00 0.00000000e+00 0.00000000e+00]\n",
      " [0.00000000e+00 0.00000000e+00 0.00000000e+00 1.34348325e+09 0.00000000e+00 0.00000000e+00]\n",
      " [0.00000000e+00 0.00000000e+00 0.00000000e+00 0.00000000e+00 1.45070421e+09 0.00000000e+00]\n",
      " [0.00000000e+00 0.00000000e+00 0.00000000e+00 0.00000000e+00 0.00000000e+00 1.45070421e+09]]\n"
     ]
    }
   ],
   "source": [
    "import numpy as np\n",
    "np.set_printoptions(linewidth=100)\n",
    "\n",
    "from homopy.methods import *\n",
    "from homopy.elasticity import *\n",
    "from homopy.stiffness_plot import *\n",
    "\n",
    "# define fiber and matrix properties\n",
    "carbon_fiber = Isotropy(242e9, 0.1)\n",
    "v_frac_carbon = 0.25\n",
    "a_carbon = 347\n",
    "polyamid6 = Isotropy(1.18e9, 0.35)\n",
    "\n",
    "# define the MT homogenization and print it's effective stiffness\n",
    "mt_carbon = mt_carbon = MoriTanaka(polyamid6, carbon_fiber, v_frac_carbon, a_carbon, shape=\"ellipsoid\")\n",
    "print(mt_carbon.effective_stiffness66)"
   ]
  },
  {
   "cell_type": "markdown",
   "metadata": {},
   "source": [
    "The result is a symmetric, i.e. thermodynamically consistent, transversely isotropic effective stiffness. The symmetry can also be validated by using"
   ]
  },
  {
   "cell_type": "code",
   "execution_count": 9,
   "metadata": {},
   "outputs": [
    {
     "name": "stdout",
     "output_type": "stream",
     "text": [
      "Left minor symmetry: passed\n",
      "Right minor symmetry: passed\n",
      "Major symmetry: passed\n",
      "\n",
      "\n"
     ]
    }
   ],
   "source": [
    "mt_carbon.is_symmetric()"
   ]
  },
  {
   "cell_type": "markdown",
   "metadata": {},
   "source": [
    "So far, there is nothing to complain about. This is due to the fact, that the Mori Tanaka formulation always results in a symmetric stiffness, when the matrix is isotropic, and the **single** inclusion is isotropic.\n",
    "\n",
    "When we add glass fibers (or any other type of inclusion in that sense) to the mix, we suddenly get a different behaviour, as the next example will demonstrate."
   ]
  },
  {
   "cell_type": "code",
   "execution_count": 10,
   "metadata": {},
   "outputs": [
    {
     "name": "stdout",
     "output_type": "stream",
     "text": [
      "[[4.11982135e+10 1.21538920e+09 1.21538920e+09 0.00000000e+00 0.00000000e+00 0.00000000e+00]\n",
      " [1.21552236e+09 2.73829044e+09 1.39951750e+09 0.00000000e+00 0.00000000e+00 0.00000000e+00]\n",
      " [1.21552236e+09 1.39951750e+09 2.73829044e+09 0.00000000e+00 0.00000000e+00 0.00000000e+00]\n",
      " [0.00000000e+00 0.00000000e+00 0.00000000e+00 1.33877294e+09 0.00000000e+00 0.00000000e+00]\n",
      " [0.00000000e+00 0.00000000e+00 0.00000000e+00 0.00000000e+00 1.44364293e+09 0.00000000e+00]\n",
      " [0.00000000e+00 0.00000000e+00 0.00000000e+00 0.00000000e+00 0.00000000e+00 1.44364293e+09]]\n",
      "Left minor symmetry: passed\n",
      "Right minor symmetry: passed\n",
      "Major symmetry: failed\n",
      "The rel. residuum was: res = 6.406621895094511e-06\n",
      "\n",
      "\n"
     ]
    }
   ],
   "source": [
    "# define fiberproperties\n",
    "glass_fiber = Isotropy(80e9, 0.22)\n",
    "v_frac_glass = 0.25\n",
    "a_glass = 225\n",
    "\n",
    "# define the MT homogenization and print it's effective stiffness\n",
    "mt_hybrid = MoriTanaka(polyamid6, [carbon_fiber, glass_fiber], [v_frac_carbon/2, v_frac_glass/2], [a_carbon, a_glass], 2*['ellipsoid'])\n",
    "print(mt_hybrid.effective_stiffness66)\n",
    "mt_hybrid.is_symmetric()"
   ]
  },
  {
   "cell_type": "markdown",
   "metadata": {},
   "source": [
    "We see that the effective stiffness does not contain the major symmetry and thus is not thermodynamically consistent. The relative residuum indicates that the major symmetry is only violated 'a bit', but it is violated. Therefore, a motivation is given to use an alternative algorithm which ensures that the effective stiffness will be symmetric.\n",
    "\n",
    "Explain what the symmetry flag does...\n",
    "\n",
    "Therefore, the symmetry is easily recovered using the 'symmetrize' flag"
   ]
  },
  {
   "cell_type": "code",
   "execution_count": 15,
   "metadata": {},
   "outputs": [
    {
     "name": "stdout",
     "output_type": "stream",
     "text": [
      "[[4.11982135e+10 1.21545578e+09 1.21545578e+09 0.00000000e+00 0.00000000e+00 0.00000000e+00]\n",
      " [1.21545578e+09 2.73829044e+09 1.39951750e+09 0.00000000e+00 0.00000000e+00 0.00000000e+00]\n",
      " [1.21545578e+09 1.39951750e+09 2.73829044e+09 0.00000000e+00 0.00000000e+00 0.00000000e+00]\n",
      " [0.00000000e+00 0.00000000e+00 0.00000000e+00 1.33877294e+09 0.00000000e+00 0.00000000e+00]\n",
      " [0.00000000e+00 0.00000000e+00 0.00000000e+00 0.00000000e+00 1.44364293e+09 0.00000000e+00]\n",
      " [0.00000000e+00 0.00000000e+00 0.00000000e+00 0.00000000e+00 0.00000000e+00 1.44364293e+09]]\n",
      "Left minor symmetry: passed\n",
      "Right minor symmetry: passed\n",
      "Major symmetry: passed\n",
      "\n",
      "\n"
     ]
    }
   ],
   "source": [
    "mt_hybrid_sym = MoriTanaka(polyamid6, [carbon_fiber, glass_fiber], [v_frac_carbon/2, v_frac_glass/2], [a_carbon, a_glass], 2*['ellipsoid'], symmetrize=True)\n",
    "print(mt_hybrid_sym.effective_stiffness66)\n",
    "mt_hybrid_sym.is_symmetric()"
   ]
  }
 ],
 "metadata": {
  "interpreter": {
   "hash": "6a4d04239716f2c6e702d74bc22ca2a1f2359060bfdf3c7f42b1a63d84414d40"
  },
  "kernelspec": {
   "display_name": "Python 3 (ipykernel)",
   "language": "python",
   "name": "python3"
  },
  "language_info": {
   "codemirror_mode": {
    "name": "ipython",
    "version": 3
   },
   "file_extension": ".py",
   "mimetype": "text/x-python",
   "name": "python",
   "nbconvert_exporter": "python",
   "pygments_lexer": "ipython3",
   "version": "3.9.13"
  }
 },
 "nbformat": 4,
 "nbformat_minor": 2
}
